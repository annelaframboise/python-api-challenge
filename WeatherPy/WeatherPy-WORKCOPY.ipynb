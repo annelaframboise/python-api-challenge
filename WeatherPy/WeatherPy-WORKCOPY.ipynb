{
 "cells": [
  {
   "cell_type": "markdown",
   "metadata": {},
   "source": [
    "# WeatherPy\n",
    "----\n",
    "\n",
    "#### Note\n",
    "* Instructions have been included for each segment. You do not have to follow them exactly, but they are included to help you think through the steps."
   ]
  },
  {
   "cell_type": "code",
   "execution_count": 1,
   "metadata": {
    "scrolled": true
   },
   "outputs": [],
   "source": [
    "# Dependencies and Setup\n",
    "import matplotlib.pyplot as plt\n",
    "import pandas as pd\n",
    "import numpy as np\n",
    "import requests\n",
    "import time\n",
    "import json\n",
    "import csv\n",
    "from scipy.stats import linregress\n",
    "\n",
    "# Import API key\n",
    "from api_keys import weather_api_key\n",
    "\n",
    "# Incorporated citipy to determine city based on latitude and longitude\n",
    "from citipy import citipy\n",
    "\n",
    "# Output File (CSV)\n",
    "output_data_file = \"cities.csv\"\n",
    "\n",
    "# Range of latitudes and longitudes\n",
    "lat_range = (-90, 90)\n",
    "lng_range = (-180, 180)"
   ]
  },
  {
   "cell_type": "markdown",
   "metadata": {},
   "source": [
    "## Generate Cities List"
   ]
  },
  {
   "cell_type": "code",
   "execution_count": 2,
   "metadata": {},
   "outputs": [
    {
     "data": {
      "text/plain": [
       "639"
      ]
     },
     "execution_count": 2,
     "metadata": {},
     "output_type": "execute_result"
    }
   ],
   "source": [
    "# List for holding lat_lngs and cities\n",
    "lat_lngs = []\n",
    "cities = []\n",
    "\n",
    "# Create a set of random lat and lng combinations\n",
    "lats = np.random.uniform(lat_range[0], lat_range[1], size=1500)\n",
    "lngs = np.random.uniform(lng_range[0], lng_range[1], size=1500)\n",
    "lat_lngs = zip(lats, lngs)\n",
    "\n",
    "# Identify nearest city for each lat, lng combination\n",
    "for lat_lng in lat_lngs:\n",
    "    city = citipy.nearest_city(lat_lng[0], lat_lng[1]).city_name\n",
    "    \n",
    "    # If the city is unique, then add it to a our cities list\n",
    "    if city not in cities:\n",
    "        cities.append(city)\n",
    "\n",
    "# Print the city count to confirm sufficient count\n",
    "len(cities)"
   ]
  },
  {
   "cell_type": "markdown",
   "metadata": {},
   "source": [
    "### Perform API Calls\n",
    "* Perform a weather check on each city using a series of successive API calls.\n",
    "* Include a print log of each city as it'sbeing processed (with the city number and city name).\n"
   ]
  },
  {
   "cell_type": "code",
   "execution_count": 3,
   "metadata": {},
   "outputs": [],
   "source": [
    "# Save config information\n",
    "url = \"http://api.openweathermap.org/data/2.5/weather?\"\n",
    "cityname = []\n",
    "lat = []\n",
    "long = []\n",
    "temp = []\n",
    "humidity = []\n",
    "cloudiness = []\n",
    "windspeed = []\n",
    "count = 0\n",
    "country = []\n",
    "date = [] "
   ]
  },
  {
   "cell_type": "code",
   "execution_count": 4,
   "metadata": {
    "scrolled": true
   },
   "outputs": [
    {
     "name": "stdout",
     "output_type": "stream",
     "text": [
      "Beginning Data Retrieval \n",
      "-----------------------------\n",
      "Processing Record 1 of Set 1 | laramie\n",
      "City not found. Skipping...\n",
      "Processing Record 2 of Set 1 | ushuaia\n",
      "Processing Record 3 of Set 1 | warri\n",
      "Processing Record 4 of Set 1 | victoria\n",
      "Processing Record 5 of Set 1 | qaanaaq\n",
      "Processing Record 6 of Set 1 | praia da vitoria\n",
      "Processing Record 7 of Set 1 | tuktoyaktuk\n",
      "Processing Record 8 of Set 1 | georgetown\n",
      "Processing Record 9 of Set 1 | avarua\n",
      "Processing Record 10 of Set 1 | new norfolk\n",
      "Processing Record 11 of Set 1 | saint-philippe\n",
      "Processing Record 12 of Set 1 | busselton\n",
      "Processing Record 13 of Set 1 | srednekolymsk\n",
      "Processing Record 14 of Set 1 | sitka\n",
      "Processing Record 15 of Set 1 | grajau\n",
      "Processing Record 16 of Set 1 | fortuna\n",
      "City not found. Skipping...\n",
      "City not found. Skipping...\n",
      "Processing Record 17 of Set 1 | hobart\n",
      "City not found. Skipping...\n",
      "Processing Record 18 of Set 1 | sabzevar\n",
      "Processing Record 19 of Set 1 | necochea\n",
      "Processing Record 20 of Set 1 | rocha\n",
      "Processing Record 21 of Set 1 | dikson\n",
      "Processing Record 22 of Set 1 | lebanon\n",
      "Processing Record 23 of Set 1 | butaritari\n",
      "Processing Record 24 of Set 1 | vaini\n",
      "Processing Record 25 of Set 1 | atambua\n",
      "Processing Record 26 of Set 1 | formosa do rio preto\n",
      "Processing Record 27 of Set 1 | khatanga\n",
      "Processing Record 28 of Set 1 | jamestown\n",
      "Processing Record 29 of Set 1 | ipameri\n",
      "Processing Record 30 of Set 1 | guerrero negro\n",
      "Processing Record 31 of Set 1 | yeppoon\n",
      "Processing Record 32 of Set 1 | esna\n",
      "Processing Record 33 of Set 1 | russell\n",
      "Processing Record 34 of Set 1 | kailua\n",
      "Processing Record 35 of Set 1 | neuquen\n",
      "Processing Record 36 of Set 1 | bathsheba\n",
      "Processing Record 37 of Set 1 | cherskiy\n",
      "Processing Record 38 of Set 1 | lavrentiya\n",
      "City not found. Skipping...\n",
      "Processing Record 39 of Set 1 | san patricio\n",
      "Processing Record 40 of Set 1 | bafata\n",
      "Processing Record 41 of Set 1 | pechenga\n",
      "Processing Record 42 of Set 1 | vardo\n",
      "Processing Record 43 of Set 1 | severo-kurilsk\n",
      "Processing Record 44 of Set 1 | ambunti\n",
      "Processing Record 45 of Set 1 | erzurum\n",
      "City not found. Skipping...\n",
      "Processing Record 46 of Set 1 | asilah\n",
      "Processing Record 47 of Set 1 | saskylakh\n",
      "Processing Record 48 of Set 1 | hwange\n",
      "Processing Record 49 of Set 1 | mareeba\n",
      "Processing Record 50 of Set 1 | nantucket\n",
      "Processing Record 51 of Set 1 | kapaa\n",
      "Processing Record 52 of Set 1 | lompoc\n",
      "City not found. Skipping...\n",
      "Processing Record 53 of Set 1 | east london\n",
      "Processing Record 54 of Set 1 | bambous virieux\n",
      "Processing Record 55 of Set 1 | mar del plata\n",
      "Processing Record 56 of Set 1 | ponta do sol\n",
      "Processing Record 57 of Set 1 | bengkulu\n",
      "City not found. Skipping...\n",
      "Processing Record 58 of Set 1 | komsomolskiy\n",
      "Processing Record 59 of Set 1 | nizhnevartovsk\n",
      "Processing Record 60 of Set 1 | norman wells\n",
      "Processing Record 61 of Set 1 | finschhafen\n",
      "Processing Record 62 of Set 1 | lebu\n",
      "Processing Record 63 of Set 1 | haines junction\n",
      "Processing Record 64 of Set 1 | mataura\n",
      "Processing Record 65 of Set 1 | kodiak\n",
      "Processing Record 66 of Set 1 | puerto ayora\n",
      "City not found. Skipping...\n",
      "Processing Record 67 of Set 1 | qingquan\n",
      "Processing Record 68 of Set 1 | olafsvik\n",
      "Processing Record 69 of Set 1 | elliot lake\n",
      "Processing Record 70 of Set 1 | ribeira grande\n",
      "Processing Record 71 of Set 1 | arraial do cabo\n",
      "Processing Record 72 of Set 1 | ilulissat\n",
      "Processing Record 73 of Set 1 | kontagora\n",
      "Processing Record 74 of Set 1 | hilo\n",
      "Processing Record 75 of Set 1 | paita\n",
      "Processing Record 76 of Set 1 | punta arenas\n",
      "Processing Record 77 of Set 1 | mackay\n",
      "Processing Record 78 of Set 1 | bluff\n",
      "Processing Record 79 of Set 1 | osmena\n",
      "Processing Record 80 of Set 1 | albany\n",
      "Processing Record 81 of Set 1 | oistins\n",
      "Processing Record 82 of Set 1 | fort-shevchenko\n",
      "Processing Record 83 of Set 1 | college\n",
      "Processing Record 84 of Set 1 | westport\n",
      "Processing Record 85 of Set 1 | cape town\n",
      "Processing Record 86 of Set 1 | yanam\n",
      "Processing Record 87 of Set 1 | port hardy\n",
      "Processing Record 88 of Set 1 | grand river south east\n",
      "Processing Record 89 of Set 1 | dodge city\n",
      "Processing Record 90 of Set 1 | belmonte\n",
      "Processing Record 91 of Set 1 | mahajanga\n",
      "Processing Record 92 of Set 1 | mwinilunga\n",
      "Processing Record 93 of Set 1 | narsaq\n",
      "Processing Record 94 of Set 1 | barrow\n",
      "Processing Record 95 of Set 1 | najran\n",
      "Processing Record 96 of Set 1 | rikitea\n",
      "Processing Record 97 of Set 1 | sola\n",
      "Processing Record 98 of Set 1 | chokurdakh\n",
      "Processing Record 99 of Set 1 | yellowknife\n",
      "Processing Record 100 of Set 1 | pacific grove\n",
      "Processing Record 101 of Set 1 | bredasdorp\n",
      "Processing Record 102 of Set 1 | hamilton\n",
      "Processing Record 103 of Set 1 | valparaiso\n",
      "Processing Record 104 of Set 1 | elat\n",
      "Processing Record 105 of Set 1 | ruthin\n",
      "Processing Record 106 of Set 1 | foso\n",
      "Processing Record 107 of Set 1 | porbandar\n",
      "Processing Record 108 of Set 1 | khuzdar\n",
      "Processing Record 109 of Set 1 | huangmei\n",
      "Processing Record 110 of Set 1 | nouadhibou\n",
      "Processing Record 111 of Set 1 | aklavik\n",
      "Processing Record 112 of Set 1 | cabo san lucas\n",
      "Processing Record 113 of Set 1 | palmer\n",
      "Processing Record 114 of Set 1 | oktyabrskiy\n",
      "City not found. Skipping...\n",
      "Processing Record 115 of Set 1 | longyearbyen\n",
      "Processing Record 116 of Set 1 | poum\n",
      "City not found. Skipping...\n",
      "Processing Record 117 of Set 1 | sehithwa\n",
      "Processing Record 118 of Set 1 | kayerkan\n",
      "Processing Record 119 of Set 1 | adrar\n",
      "Processing Record 120 of Set 1 | sao joao da barra\n",
      "Processing Record 121 of Set 1 | meulaboh\n",
      "Processing Record 122 of Set 1 | yar-sale\n",
      "Processing Record 123 of Set 1 | tasiilaq\n",
      "Processing Record 124 of Set 1 | batagay-alyta\n",
      "Processing Record 125 of Set 1 | nikolskoye\n",
      "Processing Record 126 of Set 1 | sotnikovskoye\n",
      "Processing Record 127 of Set 1 | lingdong\n",
      "City not found. Skipping...\n",
      "Processing Record 128 of Set 1 | bethel\n",
      "Processing Record 129 of Set 1 | zhigansk\n",
      "Processing Record 130 of Set 1 | beaufort\n",
      "Processing Record 131 of Set 1 | alexandria\n",
      "Processing Record 132 of Set 1 | kahului\n",
      "Processing Record 133 of Set 1 | port alfred\n",
      "Processing Record 134 of Set 1 | ola\n",
      "Processing Record 135 of Set 1 | sulphur springs\n",
      "Processing Record 136 of Set 1 | werda\n",
      "Processing Record 137 of Set 1 | durban\n",
      "Processing Record 138 of Set 1 | hopkinsville\n",
      "Processing Record 139 of Set 1 | lucapa\n",
      "Processing Record 140 of Set 1 | araouane\n",
      "Processing Record 141 of Set 1 | vredendal\n",
      "Processing Record 142 of Set 1 | ouesso\n",
      "Processing Record 143 of Set 1 | slatina\n",
      "Processing Record 144 of Set 1 | tazovskiy\n",
      "Processing Record 145 of Set 1 | alice springs\n",
      "Processing Record 146 of Set 1 | jaen\n",
      "Processing Record 147 of Set 1 | fairbanks\n",
      "City not found. Skipping...\n",
      "Processing Record 148 of Set 1 | reforma\n",
      "Processing Record 149 of Set 1 | apopka\n",
      "Processing Record 150 of Set 1 | port blair\n",
      "Processing Record 151 of Set 1 | hithadhoo\n",
      "Processing Record 152 of Set 1 | tiksi\n",
      "Processing Record 153 of Set 1 | tayu\n",
      "Processing Record 154 of Set 1 | atuona\n",
      "Processing Record 155 of Set 1 | liverpool\n",
      "Processing Record 156 of Set 1 | hasaki\n",
      "Processing Record 157 of Set 1 | reinosa\n",
      "Processing Record 158 of Set 1 | mahebourg\n",
      "Processing Record 159 of Set 1 | geraldton\n",
      "Processing Record 160 of Set 1 | khorinsk\n",
      "Processing Record 161 of Set 1 | mandalgovi\n",
      "Processing Record 162 of Set 1 | saint-joseph\n",
      "Processing Record 163 of Set 1 | vorobyevka\n",
      "Processing Record 164 of Set 1 | upernavik\n",
      "Processing Record 165 of Set 1 | maxixe\n",
      "Processing Record 166 of Set 1 | thompson\n",
      "Processing Record 167 of Set 1 | karratha\n",
      "Processing Record 168 of Set 1 | nageshwari\n",
      "Processing Record 169 of Set 1 | garoua\n",
      "Processing Record 170 of Set 1 | chuy\n",
      "Processing Record 171 of Set 1 | tororo\n",
      "Processing Record 172 of Set 1 | garissa\n",
      "Processing Record 173 of Set 1 | airai\n",
      "Processing Record 174 of Set 1 | isangel\n",
      "City not found. Skipping...\n",
      "Processing Record 175 of Set 1 | laurel\n",
      "Processing Record 176 of Set 1 | carnarvon\n",
      "City not found. Skipping...\n",
      "Processing Record 177 of Set 1 | torbay\n",
      "Processing Record 178 of Set 1 | sungaipenuh\n",
      "Processing Record 179 of Set 1 | faya\n",
      "Processing Record 180 of Set 1 | saint-pierre\n",
      "Processing Record 181 of Set 1 | ongandjera\n",
      "City not found. Skipping...\n",
      "Processing Record 182 of Set 1 | pisco\n",
      "Processing Record 183 of Set 1 | alofi\n",
      "Processing Record 184 of Set 1 | saint-francois\n",
      "Processing Record 185 of Set 1 | muisne\n"
     ]
    },
    {
     "name": "stdout",
     "output_type": "stream",
     "text": [
      "Processing Record 186 of Set 1 | eirunepe\n",
      "Processing Record 187 of Set 1 | kudat\n",
      "Processing Record 188 of Set 1 | healdsburg\n",
      "Processing Record 189 of Set 1 | wenatchee\n",
      "Processing Record 190 of Set 1 | borborema\n",
      "Processing Record 191 of Set 1 | souillac\n",
      "Processing Record 192 of Set 1 | tura\n",
      "Processing Record 193 of Set 1 | puerto cabezas\n",
      "City not found. Skipping...\n",
      "City not found. Skipping...\n",
      "Processing Record 194 of Set 1 | alugan\n",
      "Processing Record 195 of Set 1 | shu\n",
      "Processing Record 196 of Set 1 | tuatapere\n",
      "Processing Record 197 of Set 1 | terebesti\n",
      "Processing Record 198 of Set 1 | ostrovnoy\n",
      "Processing Record 199 of Set 1 | cayenne\n",
      "Processing Record 200 of Set 1 | mehamn\n",
      "Processing Record 201 of Set 1 | sesimbra\n",
      "Processing Record 202 of Set 1 | inhambane\n",
      "Processing Record 203 of Set 1 | laguna\n",
      "City not found. Skipping...\n",
      "Processing Record 204 of Set 1 | sao filipe\n",
      "Processing Record 205 of Set 1 | goiatuba\n",
      "Processing Record 206 of Set 1 | hermanus\n",
      "Processing Record 207 of Set 1 | ceres\n",
      "Processing Record 208 of Set 1 | kilindoni\n",
      "Processing Record 209 of Set 1 | mbekenyera\n",
      "Processing Record 210 of Set 1 | vao\n",
      "Processing Record 211 of Set 1 | manaus\n",
      "Processing Record 212 of Set 1 | pouebo\n",
      "City not found. Skipping...\n",
      "Processing Record 213 of Set 1 | port macquarie\n",
      "Processing Record 214 of Set 1 | ngunguru\n",
      "Processing Record 215 of Set 1 | matagami\n",
      "Processing Record 216 of Set 1 | iranshahr\n",
      "Processing Record 217 of Set 1 | west plains\n",
      "City not found. Skipping...\n",
      "Processing Record 218 of Set 1 | shenjiamen\n",
      "Processing Record 219 of Set 1 | alta floresta\n",
      "Processing Record 220 of Set 1 | syumsi\n",
      "Processing Record 221 of Set 1 | kloulklubed\n",
      "Processing Record 222 of Set 1 | ahipara\n",
      "Processing Record 223 of Set 1 | kavaratti\n",
      "Processing Record 224 of Set 1 | marawi\n",
      "Processing Record 225 of Set 1 | bay city\n",
      "Processing Record 226 of Set 1 | kalmunai\n",
      "Processing Record 227 of Set 1 | zaysan\n",
      "Processing Record 228 of Set 1 | chatra\n",
      "Processing Record 229 of Set 1 | bad doberan\n",
      "Processing Record 230 of Set 1 | kapiri mposhi\n",
      "Processing Record 231 of Set 1 | orlik\n",
      "Processing Record 232 of Set 1 | makinsk\n",
      "Processing Record 233 of Set 1 | abnub\n",
      "Processing Record 234 of Set 1 | half moon bay\n",
      "Processing Record 235 of Set 1 | sayyan\n",
      "Processing Record 236 of Set 1 | katsuura\n",
      "Processing Record 237 of Set 1 | ostersund\n",
      "Processing Record 238 of Set 1 | ulaangom\n",
      "Processing Record 239 of Set 1 | grindavik\n",
      "Processing Record 240 of Set 1 | olinda\n",
      "City not found. Skipping...\n",
      "Processing Record 241 of Set 1 | develi\n",
      "City not found. Skipping...\n",
      "Processing Record 242 of Set 1 | benghazi\n",
      "Processing Record 243 of Set 1 | trofors\n",
      "Processing Record 244 of Set 1 | dunedin\n",
      "Processing Record 245 of Set 1 | zhanaozen\n",
      "Processing Record 246 of Set 1 | hambantota\n",
      "Processing Record 247 of Set 1 | buy\n",
      "Processing Record 248 of Set 1 | hovd\n",
      "Processing Record 249 of Set 1 | omboue\n",
      "Processing Record 250 of Set 1 | gao\n",
      "Processing Record 251 of Set 1 | mys shmidta\n",
      "Processing Record 252 of Set 1 | kasangulu\n",
      "Processing Record 253 of Set 1 | tarko-sale\n",
      "Processing Record 254 of Set 1 | havoysund\n",
      "Processing Record 255 of Set 1 | faanui\n",
      "Processing Record 256 of Set 1 | puerto escondido\n",
      "Processing Record 257 of Set 1 | tabou\n",
      "Processing Record 258 of Set 1 | husavik\n",
      "Processing Record 259 of Set 1 | mezen\n",
      "Processing Record 260 of Set 1 | torrington\n",
      "Processing Record 261 of Set 1 | aras\n",
      "Processing Record 262 of Set 1 | port moresby\n",
      "Processing Record 263 of Set 1 | labuhan\n",
      "Processing Record 264 of Set 1 | provideniya\n",
      "City not found. Skipping...\n",
      "Processing Record 265 of Set 1 | lokosovo\n",
      "Processing Record 266 of Set 1 | baykit\n",
      "Processing Record 267 of Set 1 | price\n",
      "City not found. Skipping...\n",
      "Processing Record 268 of Set 1 | wyndham\n",
      "Processing Record 269 of Set 1 | north bend\n",
      "City not found. Skipping...\n",
      "Processing Record 270 of Set 1 | high level\n",
      "City not found. Skipping...\n",
      "City not found. Skipping...\n",
      "Processing Record 271 of Set 1 | sawakin\n",
      "Processing Record 272 of Set 1 | mozarlandia\n",
      "City not found. Skipping...\n",
      "Processing Record 273 of Set 1 | boddam\n",
      "Processing Record 274 of Set 1 | ninghai\n",
      "Processing Record 275 of Set 1 | bridlington\n",
      "Processing Record 276 of Set 1 | san luis\n",
      "Processing Record 277 of Set 1 | kudahuvadhoo\n",
      "Processing Record 278 of Set 1 | grand gaube\n",
      "Processing Record 279 of Set 1 | sucre\n",
      "Processing Record 280 of Set 1 | waingapu\n",
      "Processing Record 281 of Set 1 | camacha\n",
      "Processing Record 282 of Set 1 | tromso\n",
      "Processing Record 283 of Set 1 | nanortalik\n",
      "Processing Record 284 of Set 1 | nome\n",
      "Processing Record 285 of Set 1 | namatanai\n",
      "Processing Record 286 of Set 1 | puro\n",
      "Processing Record 287 of Set 1 | aksum\n",
      "Processing Record 288 of Set 1 | cedar falls\n",
      "Processing Record 289 of Set 1 | qandala\n",
      "Processing Record 290 of Set 1 | udachnyy\n",
      "City not found. Skipping...\n",
      "Processing Record 291 of Set 1 | hilliard\n",
      "Processing Record 292 of Set 1 | waitati\n",
      "Processing Record 293 of Set 1 | yulara\n",
      "Processing Record 294 of Set 1 | caravelas\n",
      "Processing Record 295 of Set 1 | boa vista\n",
      "Processing Record 296 of Set 1 | tubinskiy\n",
      "Processing Record 297 of Set 1 | leningradskiy\n",
      "City not found. Skipping...\n",
      "Processing Record 298 of Set 1 | hirara\n",
      "Processing Record 299 of Set 1 | port elizabeth\n",
      "Processing Record 300 of Set 1 | sibolga\n",
      "Processing Record 301 of Set 1 | coxim\n",
      "Processing Record 302 of Set 1 | ugoofaaru\n",
      "Processing Record 303 of Set 1 | beringovskiy\n",
      "Processing Record 304 of Set 1 | tiznit\n",
      "City not found. Skipping...\n",
      "Processing Record 305 of Set 1 | talnakh\n",
      "Processing Record 306 of Set 1 | oktyabrskoye\n",
      "Processing Record 307 of Set 1 | balod\n",
      "Processing Record 308 of Set 1 | benjamin constant\n",
      "Processing Record 309 of Set 1 | viedma\n",
      "Processing Record 310 of Set 1 | hobyo\n",
      "Processing Record 311 of Set 1 | keffi\n",
      "City not found. Skipping...\n",
      "Processing Record 312 of Set 1 | koutiala\n",
      "Processing Record 313 of Set 1 | erdenet\n",
      "Processing Record 314 of Set 1 | pevek\n",
      "Processing Record 315 of Set 1 | goure\n",
      "Processing Record 316 of Set 1 | kavieng\n",
      "Processing Record 317 of Set 1 | hermosillo\n",
      "Processing Record 318 of Set 1 | gazalkent\n",
      "Processing Record 319 of Set 1 | ambon\n",
      "Processing Record 320 of Set 1 | durant\n",
      "Processing Record 321 of Set 1 | barcelos\n",
      "Processing Record 322 of Set 1 | roma\n",
      "Processing Record 323 of Set 1 | acajutla\n",
      "Processing Record 324 of Set 1 | mount gambier\n",
      "Processing Record 325 of Set 1 | mantua\n",
      "Processing Record 326 of Set 1 | hami\n",
      "Processing Record 327 of Set 1 | bayji\n",
      "Processing Record 328 of Set 1 | lagoa\n",
      "Processing Record 329 of Set 1 | cidreira\n",
      "Processing Record 330 of Set 1 | pochutla\n",
      "Processing Record 331 of Set 1 | esperance\n",
      "Processing Record 332 of Set 1 | kilis\n",
      "Processing Record 333 of Set 1 | fairlie\n",
      "Processing Record 334 of Set 1 | alcudia\n",
      "Processing Record 335 of Set 1 | rio gallegos\n",
      "Processing Record 336 of Set 1 | dombarovskiy\n",
      "Processing Record 337 of Set 1 | paka\n",
      "Processing Record 338 of Set 1 | belyy yar\n",
      "Processing Record 339 of Set 1 | horqueta\n",
      "City not found. Skipping...\n",
      "Processing Record 340 of Set 1 | khash\n",
      "Processing Record 341 of Set 1 | mattru\n",
      "Processing Record 342 of Set 1 | mayo\n",
      "City not found. Skipping...\n",
      "Processing Record 343 of Set 1 | mabaruma\n",
      "Processing Record 344 of Set 1 | kiama\n",
      "Processing Record 345 of Set 1 | zalantun\n",
      "Processing Record 346 of Set 1 | cockburn town\n",
      "Processing Record 347 of Set 1 | chapais\n",
      "Processing Record 348 of Set 1 | coihaique\n",
      "Processing Record 349 of Set 1 | kassala\n",
      "Processing Record 350 of Set 1 | sarangani\n",
      "Processing Record 351 of Set 1 | bocas del toro\n",
      "Processing Record 352 of Set 1 | bayir\n",
      "Processing Record 353 of Set 1 | bambanglipuro\n",
      "Processing Record 354 of Set 1 | codrington\n",
      "Processing Record 355 of Set 1 | scharnstein\n",
      "Processing Record 356 of Set 1 | byron bay\n",
      "Processing Record 357 of Set 1 | constitucion\n",
      "Processing Record 358 of Set 1 | tacoronte\n",
      "Processing Record 359 of Set 1 | melekhovo\n",
      "Processing Record 360 of Set 1 | atar\n",
      "Processing Record 361 of Set 1 | satipo\n",
      "Processing Record 362 of Set 1 | krasnoselkup\n",
      "Processing Record 363 of Set 1 | jiujiang\n",
      "Processing Record 364 of Set 1 | walajapet\n",
      "Processing Record 365 of Set 1 | mabay\n",
      "Processing Record 366 of Set 1 | coruripe\n",
      "Processing Record 367 of Set 1 | manta\n",
      "Processing Record 368 of Set 1 | flinders\n"
     ]
    },
    {
     "name": "stdout",
     "output_type": "stream",
     "text": [
      "Processing Record 369 of Set 1 | windhoek\n",
      "Processing Record 370 of Set 1 | albacete\n",
      "Processing Record 371 of Set 1 | shymkent\n",
      "Processing Record 372 of Set 1 | bom jesus\n",
      "Processing Record 373 of Set 1 | inongo\n",
      "Processing Record 374 of Set 1 | coihueco\n",
      "Processing Record 375 of Set 1 | port-gentil\n",
      "Processing Record 376 of Set 1 | merauke\n",
      "City not found. Skipping...\n",
      "Processing Record 377 of Set 1 | parrita\n",
      "Processing Record 378 of Set 1 | deloraine\n",
      "Processing Record 379 of Set 1 | sikonge\n",
      "Processing Record 380 of Set 1 | novo aripuana\n",
      "Processing Record 381 of Set 1 | santa cruz de la palma\n",
      "Processing Record 382 of Set 1 | jalu\n",
      "Processing Record 383 of Set 1 | kaka\n",
      "Processing Record 384 of Set 1 | millinocket\n",
      "City not found. Skipping...\n",
      "Processing Record 385 of Set 1 | qasigiannguit\n",
      "Processing Record 386 of Set 1 | qalyub\n",
      "Processing Record 387 of Set 1 | santiago de chuco\n",
      "Processing Record 388 of Set 1 | tecpan\n",
      "Processing Record 389 of Set 1 | lata\n",
      "Processing Record 390 of Set 1 | brest\n",
      "Processing Record 391 of Set 1 | minsk\n",
      "Processing Record 392 of Set 1 | naron\n",
      "Processing Record 393 of Set 1 | conyers\n",
      "City not found. Skipping...\n",
      "Processing Record 394 of Set 1 | tougan\n",
      "Processing Record 395 of Set 1 | ust-shonosha\n",
      "City not found. Skipping...\n",
      "Processing Record 396 of Set 1 | hualmay\n",
      "Processing Record 397 of Set 1 | fasa\n",
      "Processing Record 398 of Set 1 | gubkinskiy\n",
      "City not found. Skipping...\n",
      "Processing Record 399 of Set 1 | flin flon\n",
      "Processing Record 400 of Set 1 | pribinic\n",
      "Processing Record 401 of Set 1 | luderitz\n",
      "City not found. Skipping...\n",
      "Processing Record 402 of Set 1 | hlohovec\n",
      "Processing Record 403 of Set 1 | goderich\n",
      "Processing Record 404 of Set 1 | novska\n",
      "Processing Record 405 of Set 1 | champerico\n",
      "Processing Record 406 of Set 1 | madison\n",
      "Processing Record 407 of Set 1 | oranjemund\n",
      "Processing Record 408 of Set 1 | teahupoo\n",
      "Processing Record 409 of Set 1 | rawson\n",
      "Processing Record 410 of Set 1 | san andres\n",
      "Processing Record 411 of Set 1 | ribas do rio pardo\n",
      "Processing Record 412 of Set 1 | dhanera\n",
      "Processing Record 413 of Set 1 | grajewo\n",
      "Processing Record 414 of Set 1 | santa cruz\n",
      "Processing Record 415 of Set 1 | tongling\n",
      "Processing Record 416 of Set 1 | abha\n",
      "City not found. Skipping...\n",
      "Processing Record 417 of Set 1 | kirensk\n",
      "Processing Record 418 of Set 1 | nueva armenia\n",
      "Processing Record 419 of Set 1 | raudeberg\n",
      "Processing Record 420 of Set 1 | arraias\n",
      "Processing Record 421 of Set 1 | qui nhon\n",
      "Processing Record 422 of Set 1 | iqaluit\n",
      "Processing Record 423 of Set 1 | ancud\n",
      "Processing Record 424 of Set 1 | ouallam\n",
      "Processing Record 425 of Set 1 | snezhnogorsk\n",
      "Processing Record 426 of Set 1 | dondo\n",
      "Processing Record 427 of Set 1 | ritchie\n",
      "Processing Record 428 of Set 1 | shimoda\n",
      "City not found. Skipping...\n",
      "Processing Record 429 of Set 1 | ryotsu\n",
      "City not found. Skipping...\n",
      "Processing Record 430 of Set 1 | jiayuguan\n",
      "Processing Record 431 of Set 1 | sistranda\n",
      "Processing Record 432 of Set 1 | elko\n",
      "Processing Record 433 of Set 1 | marfino\n",
      "Processing Record 434 of Set 1 | mulanje\n",
      "Processing Record 435 of Set 1 | kalevala\n",
      "Processing Record 436 of Set 1 | iralaya\n",
      "Processing Record 437 of Set 1 | anchorage\n",
      "Processing Record 438 of Set 1 | chiredzi\n",
      "City not found. Skipping...\n",
      "Processing Record 439 of Set 1 | popondetta\n",
      "Processing Record 440 of Set 1 | znamenskoye\n",
      "Processing Record 441 of Set 1 | sioux lookout\n",
      "Processing Record 442 of Set 1 | cabedelo\n",
      "Processing Record 443 of Set 1 | uruguaiana\n",
      "City not found. Skipping...\n",
      "Processing Record 444 of Set 1 | bako\n",
      "Processing Record 445 of Set 1 | coquimbo\n",
      "Processing Record 446 of Set 1 | williams lake\n",
      "Processing Record 447 of Set 1 | port lincoln\n",
      "Processing Record 448 of Set 1 | kenai\n",
      "Processing Record 449 of Set 1 | port hueneme\n",
      "Processing Record 450 of Set 1 | myaundzha\n",
      "Processing Record 451 of Set 1 | baruun-urt\n",
      "City not found. Skipping...\n",
      "Processing Record 452 of Set 1 | mogadishu\n",
      "Processing Record 453 of Set 1 | tekkali\n",
      "Processing Record 454 of Set 1 | warka\n",
      "Processing Record 455 of Set 1 | ponta delgada\n",
      "Processing Record 456 of Set 1 | paraibano\n",
      "Processing Record 457 of Set 1 | seoul\n",
      "Processing Record 458 of Set 1 | tandil\n",
      "Processing Record 459 of Set 1 | dingle\n",
      "Processing Record 460 of Set 1 | veraval\n",
      "Processing Record 461 of Set 1 | sinop\n",
      "Processing Record 462 of Set 1 | livadi\n",
      "Processing Record 463 of Set 1 | khorixas\n",
      "Processing Record 464 of Set 1 | belaya gora\n",
      "Processing Record 465 of Set 1 | cascais\n",
      "Processing Record 466 of Set 1 | tessalit\n",
      "City not found. Skipping...\n",
      "Processing Record 467 of Set 1 | suining\n",
      "Processing Record 468 of Set 1 | tokur\n",
      "City not found. Skipping...\n",
      "Processing Record 469 of Set 1 | alyangula\n",
      "Processing Record 470 of Set 1 | vostok\n",
      "Processing Record 471 of Set 1 | kieta\n",
      "Processing Record 472 of Set 1 | san javier\n",
      "Processing Record 473 of Set 1 | balkhash\n",
      "Processing Record 474 of Set 1 | sembe\n",
      "Processing Record 475 of Set 1 | fengzhen\n",
      "Processing Record 476 of Set 1 | chornoliztsi\n",
      "Processing Record 477 of Set 1 | marzuq\n",
      "City not found. Skipping...\n",
      "Processing Record 478 of Set 1 | crab hill\n",
      "Processing Record 479 of Set 1 | paamiut\n",
      "Processing Record 480 of Set 1 | gizo\n",
      "Processing Record 481 of Set 1 | mildura\n",
      "Processing Record 482 of Set 1 | nalut\n",
      "Processing Record 483 of Set 1 | pangnirtung\n",
      "Processing Record 484 of Set 1 | portland\n",
      "Processing Record 485 of Set 1 | touros\n",
      "Processing Record 486 of Set 1 | santa rosa\n",
      "City not found. Skipping...\n",
      "Processing Record 487 of Set 1 | kununurra\n",
      "Processing Record 488 of Set 1 | dali\n",
      "Processing Record 489 of Set 1 | deputatskiy\n",
      "Processing Record 490 of Set 1 | sulangan\n",
      "Processing Record 491 of Set 1 | taltal\n",
      "Processing Record 492 of Set 1 | kumluca\n",
      "Processing Record 493 of Set 1 | iquique\n",
      "City not found. Skipping...\n",
      "Processing Record 494 of Set 1 | chumikan\n",
      "Processing Record 495 of Set 1 | trelew\n",
      "Processing Record 496 of Set 1 | xuddur\n",
      "Processing Record 497 of Set 1 | castro\n",
      "City not found. Skipping...\n",
      "Processing Record 498 of Set 1 | bacolod\n",
      "Processing Record 499 of Set 1 | port hawkesbury\n",
      "Processing Record 500 of Set 1 | acari\n",
      "City not found. Skipping...\n",
      "Processing Record 501 of Set 1 | praya\n",
      "Processing Record 502 of Set 1 | manakara\n",
      "Processing Record 503 of Set 1 | bantry\n",
      "Processing Record 504 of Set 1 | dakoro\n",
      "Processing Record 505 of Set 1 | tuy hoa\n",
      "Processing Record 506 of Set 1 | hoi an\n",
      "Processing Record 507 of Set 1 | amod\n",
      "Processing Record 508 of Set 1 | liuhe\n",
      "Processing Record 509 of Set 1 | nanning\n",
      "Processing Record 510 of Set 1 | taos\n",
      "Processing Record 511 of Set 1 | iwanai\n",
      "Processing Record 512 of Set 1 | huarmey\n",
      "Processing Record 513 of Set 1 | lazaro cardenas\n",
      "Processing Record 514 of Set 1 | waipawa\n",
      "Processing Record 515 of Set 1 | porto seguro\n",
      "Processing Record 516 of Set 1 | salalah\n",
      "Processing Record 517 of Set 1 | buala\n",
      "Processing Record 518 of Set 1 | clyde river\n",
      "Processing Record 519 of Set 1 | kruisfontein\n",
      "Processing Record 520 of Set 1 | cozumel\n",
      "Processing Record 521 of Set 1 | ventersburg\n",
      "Processing Record 522 of Set 1 | geghamasar\n",
      "City not found. Skipping...\n",
      "Processing Record 523 of Set 1 | vila franca do campo\n",
      "Processing Record 524 of Set 1 | sendafa\n",
      "Processing Record 525 of Set 1 | beni mazar\n",
      "City not found. Skipping...\n",
      "City not found. Skipping...\n",
      "Processing Record 526 of Set 1 | oyama\n",
      "Processing Record 527 of Set 1 | lobito\n",
      "Processing Record 528 of Set 1 | uribia\n",
      "Processing Record 529 of Set 1 | rudolstadt\n",
      "Processing Record 530 of Set 1 | daugai\n",
      "Processing Record 531 of Set 1 | saldanha\n",
      "Processing Record 532 of Set 1 | pavlohrad\n",
      "Processing Record 533 of Set 1 | payo\n",
      "Processing Record 534 of Set 1 | makakilo city\n",
      "Processing Record 535 of Set 1 | sulingen\n",
      "Processing Record 536 of Set 1 | pemba\n",
      "Processing Record 537 of Set 1 | mangrol\n",
      "Processing Record 538 of Set 1 | virginia beach\n",
      "City not found. Skipping...\n",
      "City not found. Skipping...\n",
      "Processing Record 539 of Set 1 | ballina\n",
      "Processing Record 540 of Set 1 | majene\n",
      "Processing Record 541 of Set 1 | aleksandrov gay\n",
      "Processing Record 542 of Set 1 | taoudenni\n",
      "Processing Record 543 of Set 1 | hot springs\n",
      "Processing Record 544 of Set 1 | iberia\n",
      "Processing Record 545 of Set 1 | petropavlovsk-kamchatskiy\n",
      "City not found. Skipping...\n",
      "Processing Record 546 of Set 1 | mindelo\n"
     ]
    },
    {
     "name": "stdout",
     "output_type": "stream",
     "text": [
      "Processing Record 547 of Set 1 | korla\n",
      "City not found. Skipping...\n",
      "City not found. Skipping...\n",
      "Processing Record 548 of Set 1 | forbes\n",
      "City not found. Skipping...\n",
      "Processing Record 549 of Set 1 | san cristobal\n",
      "Processing Record 550 of Set 1 | okha\n",
      "Processing Record 551 of Set 1 | gayeri\n",
      "Processing Record 552 of Set 1 | bardiyah\n",
      "Processing Record 553 of Set 1 | newport\n",
      "Processing Record 554 of Set 1 | carutapera\n",
      "Processing Record 555 of Set 1 | valdivia\n",
      "Processing Record 556 of Set 1 | dongsheng\n",
      "Processing Record 557 of Set 1 | kaitangata\n",
      "City not found. Skipping...\n",
      "Processing Record 558 of Set 1 | myitkyina\n",
      "City not found. Skipping...\n",
      "City not found. Skipping...\n",
      "Processing Record 559 of Set 1 | lakatoro\n",
      "Processing Record 560 of Set 1 | andros town\n",
      "Processing Record 561 of Set 1 | goba\n",
      "Processing Record 562 of Set 1 | mitsamiouli\n",
      "Processing Record 563 of Set 1 | erzin\n",
      "Processing Record 564 of Set 1 | tharad\n",
      "City not found. Skipping...\n",
      "Processing Record 565 of Set 1 | eganville\n",
      "Processing Record 566 of Set 1 | ozu\n",
      "Processing Record 567 of Set 1 | whitehorse\n",
      "Processing Record 568 of Set 1 | richards bay\n",
      "Processing Record 569 of Set 1 | clinton\n",
      "Processing Record 570 of Set 1 | lesogorsk\n",
      "Processing Record 571 of Set 1 | moyale\n",
      "Processing Record 572 of Set 1 | jumla\n",
      "-----------------------------\n",
      "Data Retrieval Complete\n",
      "-----------------------------\n"
     ]
    }
   ],
   "source": [
    "print(\"Beginning Data Retrieval \\n-----------------------------\")\n",
    "\n",
    "for city in cities:\n",
    "    try:\n",
    "#     Build query URL\n",
    "        city2 = city.replace(\" \", \"&\")\n",
    "        query_url = url + \"appid=\" + weather_api_key + \"&q=\" + city2\n",
    "        response = requests.get(query_url).json()\n",
    "#     print(json.dumps(response, indent=4, sort_keys=True))\n",
    "        cityname.append(response[\"name\"])\n",
    "        lat.append(response[\"coord\"][\"lat\"])\n",
    "        long.append(response[\"coord\"][\"lon\"])\n",
    "        temp.append(response[\"main\"][\"temp_max\"])\n",
    "        humidity.append(response[\"main\"][\"humidity\"])\n",
    "        cloudiness.append(response[\"clouds\"][\"all\"])\n",
    "        windspeed.append(response[\"wind\"][\"speed\"])\n",
    "        country.append(response[\"sys\"][\"country\"])\n",
    "        date.append(response[\"dt\"])\n",
    "        count = count + 1\n",
    "        print(f\"Processing Record {count} of Set 1 | {city}\")\n",
    "    except:\n",
    "        print(\"City not found. Skipping...\")\n",
    "\n",
    "    \n",
    "print(\"-----------------------------\\nData Retrieval Complete\\n-----------------------------\")\n",
    "    \n"
   ]
  },
  {
   "cell_type": "markdown",
   "metadata": {},
   "source": [
    "### Convert Raw Data to DataFrame\n",
    "* Export the city data into a .csv.\n",
    "* Display the DataFrame"
   ]
  },
  {
   "cell_type": "code",
   "execution_count": 5,
   "metadata": {},
   "outputs": [
    {
     "name": "stdout",
     "output_type": "stream",
     "text": [
      "[25.267999999999983, 46.66999999999996, 79.75399999999996, 69.27799999999996, -3.837999999999994, 68.26999999999995, -30.72999999999999, 80.86999999999996, 84.46999999999997, 77.26999999999995, 79.06999999999996, 66.27200000000005, -19.192, 35.86999999999996, 74.35399999999996, 51.27799999999996, 77.26999999999995, 48.61400000000003, 71.27599999999998, 58.04600000000005, -30.766000000000012, 39.272000000000034, 81.5, 84.46999999999997, 79.43000000000004, 71.86999999999996, -34.221999999999994, 23.26999999999996, 71.95999999999998, 69.476, 89.86999999999996, 61.069999999999965, 50.26999999999996, 75.46999999999997, 84.46999999999997, 79.06999999999996, -13.144000000000027, 3.4519999999999733, 75.86600000000001, 72.82400000000001, 25.069999999999958, 28.238000000000046, 17.167999999999985, 76.69399999999997, 17.86999999999996, 57.469999999999956, -32.08, 68.84600000000006, 90.26600000000002, 42.27799999999996, 72.26600000000002, 61.069999999999965, 34.06999999999996, 79.06999999999996, 53.86999999999996, 54.464000000000034, 83.084, 32.26999999999996, 17.86999999999996, 48.469999999999956, 84.00199999999998, 57.84800000000003, 21.469999999999956, 76.40600000000003, 39.469999999999956, 55.66999999999996, 50.377999999999965, 38.516000000000005, 60.83599999999997, 50.26999999999996, 71.86999999999996, 10.669999999999959, 73.16600000000001, 75.46999999999997, 75.46999999999997, 84.52400000000002, 85.26199999999996, 61.23200000000001, 81.44600000000005, 35.86999999999996, 79.06999999999996, 36.464000000000034, -1.9299999999999926, 37.66999999999996, 68.26999999999995, 68.26999999999995, 73.36400000000003, 41.26999999999996, 8.869999999999958, 80.86999999999996, 71.86999999999996, 64.52599999999998, 12.46999999999996, -10.929999999999993, 64.66999999999996, 77.558, 82.43599999999998, -19.354000000000006, -30.72999999999999, 36.266000000000005, 61.069999999999965, 34.26799999999999, 61.069999999999965, 60.458000000000006, 41.26999999999996, 75.68599999999998, 62.86999999999996, 44.05999999999998, 51.98000000000005, 62.86999999999996, -23.529999999999994, 79.06999999999996, 31.261999999999954, 23.575999999999986, 28.66999999999996, 80.16799999999998, 70.44800000000004, -28.282000000000018, 60.42200000000004, 56.983999999999995, 81.10399999999996, -17.283999999999992, 26.86999999999996, -24.93399999999999, 9.266000000000009, 32.32400000000001, 3.109999999999978, 34.26799999999999, -40.900000000000006, 80.86999999999996, 62.86999999999996, 75.46999999999997, 73.36400000000003, 2.5519999999999747, 46.66999999999996, 68.46799999999999, 76.26199999999996, 39.469999999999956, 65.24600000000005, 77.35999999999999, 60.08000000000004, 73.4, 42.27799999999996, -36.274000000000015, 61.069999999999965, 47.714000000000034, -1.9299999999999926, 71.816, 68.26999999999995, 73.36400000000003, 82.16600000000001, -23.098000000000027, 81.95, 79.57400000000001, 43.06999999999996, 54.266000000000005, 51.27799999999996, 79.06999999999996, 64.66999999999996, -4.504000000000005, 7.627999999999961, 79.06999999999996, 15.332000000000015, 6.7279999999999625, 76.85600000000002, -21.72999999999999, 83.78599999999997, 65.31799999999998, 71.79800000000003, 59.95399999999995, 70.34000000000003, 74.82200000000003, 69.674, 86.26999999999995, 42.27799999999996, 82.66999999999996, 36.266000000000005, 73.85, 53.86999999999996, 79.06999999999996, 77.576, 71.86999999999996, 80.86999999999996, 45.266000000000005, 77.91799999999998, 72.69800000000004, 79.06999999999996, 61.069999999999965, 48.469999999999956, 71.90600000000003, 79.06999999999996, 65.84000000000003, 55.66999999999996, 83.37200000000004, 34.26799999999999, 68.18000000000004, 41.26999999999996, 16.15999999999998, 79.06999999999996, 26.00600000000003, 53.86999999999996, 77.66600000000001, 62.86999999999996, 56.983999999999995, 71.20399999999995, 65.26400000000004, 61.069999999999965, 80.52799999999996, 70.21400000000003, 78.42200000000004, 82.66999999999996, 84.38000000000005, 73.36400000000003, 67.06400000000004, 26.86999999999996, 50.233999999999995, 50.26999999999996, 50.522000000000034, 27.26600000000001, 15.782000000000014, 77.26999999999995, 70.91600000000001, 81.14000000000001, 81.26600000000002, 17.27599999999999, 76.26199999999996, 19.417999999999985, 57.469999999999956, 43.26799999999999, 48.77599999999999, -7.258000000000003, 32.846000000000046, 52.069999999999965, 77.26999999999995, 45.91400000000003, 53.27599999999999, 10.669999999999959, -1.8940000000000268, 35.86999999999996, 79.06999999999996, 26.86999999999996, 61.15999999999998, 23.26999999999996, 60.27799999999996, 40.78399999999999, 73.66999999999996, -2.308000000000007, 10.975999999999988, 78.69200000000001, 69.81799999999998, -3.7660000000000124, 75.46999999999997, -7.779999999999994, 26.86999999999996, 81.89600000000004, 55.66999999999996, 78.53000000000004, 30.46999999999996, -3.8740000000000165, 31.261999999999954, 50.26999999999996, 73.36400000000003, 82.83200000000002, 8.851999999999975, 17.509999999999977, -8.08600000000002, 34.06999999999996, 48.469999999999956, 44.27599999999999, 48.272000000000034, 70.51999999999995, 75.55999999999997, 35.86999999999996, 61.26799999999999, 43.26799999999999, 77.45, 81.14000000000001, 41.26999999999996, 58.08200000000002, 84.36199999999997, 57.469999999999956, 28.66999999999996, 20.840000000000018, 16.069999999999958, 77.26999999999995, 82.27400000000002, 41.55800000000001, 14.269999999999957, 72.37400000000002, -36.238, 30.46999999999996, 60.27799999999996, 79.06999999999996, 80.38399999999999, 79.03399999999999, 32.26999999999996, -8.391999999999996, 73.66999999999996, 73.36400000000003, 82.04000000000002, 75.434, 81.842, -5.620000000000012, 51.92599999999999, -25.383999999999993, 32.68399999999999, 58.36999999999996, 35.27599999999999, 67.26199999999996, 76.316, 77.26999999999995, 76.80199999999998, -0.3999999999999986, -13.305999999999976, 66.27200000000005, 80.43800000000005, 73.27400000000002, 50.26999999999996, 88.06999999999996, 50.26999999999996, 50.26999999999996, 30.46999999999996, 76.94600000000005, 41.26999999999996, 48.272000000000034, 30.308000000000003, 56.11999999999996, 58.477999999999966, 67.06400000000004, 78.27799999999996, 62.86999999999996, 37.66999999999996, 37.274000000000015, 75.46999999999997, 58.26199999999996, 34.411999999999956, 77.26999999999995, 1.0759999999999863, 68.18000000000004, 39.938000000000045, 73.90399999999995, 44.86999999999996, 74.19200000000001, 71.27599999999998, 4.801999999999975, 73.66999999999996, 23.26999999999996, 70.06999999999996, 55.435999999999964, 82.90399999999995, 75.46999999999997, 43.06999999999996, 84.29000000000002, 66.95600000000003, 38.26400000000003, 7.069999999999958, 56.80399999999995, 55.274000000000015, 0.7339999999999911, 57.61400000000003, 70.96999999999997, -20.541999999999994, 52.141999999999996, 67.26199999999996, 84.46999999999997, 78.49399999999997, 79.06999999999996, 71.27599999999998, 67.26199999999996, 44.86999999999996, 41.26999999999996, 69.69200000000001, 74.93000000000004, 68.26999999999995, 82.13000000000005, 86.07200000000003, 73.66999999999996, 70.26799999999999, 68.26999999999995, 70.06999999999996, 82.92200000000004, 52.46600000000001, 56.08399999999999, 28.66999999999996, 10.669999999999959, 55.66999999999996, 74.26400000000004, 64.66999999999996, 51.27799999999996, 16.48399999999999, 3.46999999999996, 51.27799999999996, 47.26400000000003, 76.424, -6.555999999999976, 70.28599999999997, 37.66999999999996, -3.8740000000000165, 44.86999999999996, 43.06999999999996, 69.96199999999996, 40.26199999999996, 19.66999999999996, 43.06999999999996, 66.27200000000005, 37.274000000000015, 61.51999999999996, 86.26999999999995, 63.62599999999999, 77.45, 47.26400000000003, 57.109999999999985, 9.391999999999996, 82.92200000000004, 53.29399999999997, 53.86999999999996, 4.3339999999999925, 79.06999999999996, 24.277999999999963, 70.17799999999997, 80.86999999999996, 23.26999999999996, 70.06999999999996, 73.70600000000003, 8.869999999999958, 82.66999999999996, 68.26999999999995, 57.469999999999956, 44.86999999999996, 30.97400000000001, 21.469999999999956, 43.06999999999996, 8.869999999999958, 69.80000000000001, 8.275999999999986, 77.41400000000004, 15.277999999999963, 72.91400000000004, 85.71199999999996, 34.483999999999995, 15.277999999999963, 79.06999999999996, 70.06999999999996, 67.49600000000005, 61.069999999999965, 30.272000000000038, 73.11199999999997, 16.267999999999983, 73.11199999999997, -13.504000000000005, -1.641999999999996, 75.434, 67.56799999999998, 24.277999999999963, 54.464000000000034, 72.5, 44.86999999999996, 65.44399999999997, 82.70600000000003, 69.566, 42.530000000000044, 50.26999999999996, 75.01999999999995, 29.26400000000003, 53.27599999999999, 70.7, 54.53599999999997, -15.358000000000004, 79.06999999999996, 8.114000000000033, 87.90800000000002, 77.45, 14.269999999999957, 72.75199999999998, 27.301999999999975, 29.26400000000003, 55.45399999999995, 46.274000000000015, 21.127999999999965, 84.91999999999996, 74.26400000000004, 58.26199999999996, 24.8, 52.069999999999965, 75.46999999999997, 82.92200000000004, 86.26999999999995, 52.51999999999996, -22.342, 80.76199999999996, 63.842, 60.530000000000044, 71.86999999999996, -9.021999999999984, 63.391999999999996, 64.66999999999996, 59.21600000000001, 84.88399999999999, 73.36400000000003, 72.57200000000003, 68.26999999999995, 76.892, 41.26999999999996, 65.53399999999999, 83.26400000000004, 76.58599999999997, 55.66999999999996, 28.45399999999995, 61.069999999999965, 34.06999999999996, 35.07799999999996, 71.09600000000006, 77.26999999999995, 68.26999999999995, 50.26999999999996, 70.06999999999996, 86.32400000000001, 19.27400000000001, 70.26799999999999, 75.46999999999997, 64.90399999999995, 22.766000000000005, 45.266000000000005, 52.08800000000005, 69.53000000000004, 55.274000000000015, 74.858, 79.03399999999999, 37.274000000000015, 8.869999999999958, 62.86999999999996, 19.66999999999996, 78.11600000000001, 77.26999999999995, 34.26799999999999, 80.86999999999996, 65.35399999999996, 48.469999999999956, 84.46999999999997, 85.76600000000002, 0.44599999999999795, 70.50199999999998, 78.27799999999996, 50.26999999999996, 8.869999999999958, 68.26999999999995, 26.81600000000001, 79.73599999999996, 77.45, -2.5959999999999965, 75.21799999999999, 57.77599999999999, 36.266000000000005, 78.22400000000002, 59.26999999999996, 30.091999999999995, 62.27599999999999, 62.61799999999998, 85.208, 58.26199999999996, 49.225999999999985, 82.81400000000004, 53.27599999999999, 55.435999999999964, 26.86999999999996, 52.069999999999965, -1.7320000000000206, -0.12999999999998835, 20.26400000000003, 4.4779999999999625, 68.18000000000004, 27.032000000000018]\n"
     ]
    }
   ],
   "source": [
    "ftemp = []\n",
    "#converting from Kelvin to Fahrenheit\n",
    "for t in temp:\n",
    "    tempcal = ((9 / 5)*(t - 273) + 32)\n",
    "    ftemp.append(tempcal)\n",
    "    \n",
    "print(ftemp)"
   ]
  },
  {
   "cell_type": "code",
   "execution_count": 52,
   "metadata": {},
   "outputs": [],
   "source": [
    "weatherdata = {\n",
    "    \"City\": cityname,\n",
    "    \"Cloudiness\": cloudiness, \n",
    "    \"Country\": country,\n",
    "    \"Date\": date, \n",
    "    \"Humidity\": humidity,\n",
    "    \"Lat\": lat, \n",
    "    \"Long\": long, \n",
    "    \"Max Temp\": ftemp,\n",
    "    \"Wind Speed\": windspeed\n",
    "}\n",
    "\n",
    "weather_df = pd.DataFrame(weatherdata)\n"
   ]
  },
  {
   "cell_type": "code",
   "execution_count": 53,
   "metadata": {},
   "outputs": [],
   "source": [
    "# Save data frame to CSV\n",
    "weather_df.to_csv(output_data_file)\n",
    "\n",
    "weather_df.to_csv(r\"cities.csv\")"
   ]
  },
  {
   "cell_type": "code",
   "execution_count": 54,
   "metadata": {},
   "outputs": [
    {
     "data": {
      "text/html": [
       "<div>\n",
       "<style scoped>\n",
       "    .dataframe tbody tr th:only-of-type {\n",
       "        vertical-align: middle;\n",
       "    }\n",
       "\n",
       "    .dataframe tbody tr th {\n",
       "        vertical-align: top;\n",
       "    }\n",
       "\n",
       "    .dataframe thead th {\n",
       "        text-align: right;\n",
       "    }\n",
       "</style>\n",
       "<table border=\"1\" class=\"dataframe\">\n",
       "  <thead>\n",
       "    <tr style=\"text-align: right;\">\n",
       "      <th></th>\n",
       "      <th>City</th>\n",
       "      <th>Cloudiness</th>\n",
       "      <th>Country</th>\n",
       "      <th>Date</th>\n",
       "      <th>Humidity</th>\n",
       "      <th>Lat</th>\n",
       "      <th>Long</th>\n",
       "      <th>Max Temp</th>\n",
       "      <th>Wind Speed</th>\n",
       "    </tr>\n",
       "  </thead>\n",
       "  <tbody>\n",
       "    <tr>\n",
       "      <th>0</th>\n",
       "      <td>Laramie</td>\n",
       "      <td>75</td>\n",
       "      <td>US</td>\n",
       "      <td>1612575634</td>\n",
       "      <td>74</td>\n",
       "      <td>41.3114</td>\n",
       "      <td>-105.5911</td>\n",
       "      <td>25.268</td>\n",
       "      <td>6.17</td>\n",
       "    </tr>\n",
       "    <tr>\n",
       "      <th>1</th>\n",
       "      <td>Ushuaia</td>\n",
       "      <td>40</td>\n",
       "      <td>AR</td>\n",
       "      <td>1612575404</td>\n",
       "      <td>76</td>\n",
       "      <td>-54.8000</td>\n",
       "      <td>-68.3000</td>\n",
       "      <td>46.670</td>\n",
       "      <td>11.83</td>\n",
       "    </tr>\n",
       "    <tr>\n",
       "      <th>2</th>\n",
       "      <td>Warri</td>\n",
       "      <td>11</td>\n",
       "      <td>NG</td>\n",
       "      <td>1612575635</td>\n",
       "      <td>87</td>\n",
       "      <td>5.5167</td>\n",
       "      <td>5.7500</td>\n",
       "      <td>79.754</td>\n",
       "      <td>1.52</td>\n",
       "    </tr>\n",
       "    <tr>\n",
       "      <th>3</th>\n",
       "      <td>Hong Kong</td>\n",
       "      <td>0</td>\n",
       "      <td>HK</td>\n",
       "      <td>1612575605</td>\n",
       "      <td>77</td>\n",
       "      <td>22.2855</td>\n",
       "      <td>114.1577</td>\n",
       "      <td>69.278</td>\n",
       "      <td>2.01</td>\n",
       "    </tr>\n",
       "    <tr>\n",
       "      <th>4</th>\n",
       "      <td>Qaanaaq</td>\n",
       "      <td>100</td>\n",
       "      <td>GL</td>\n",
       "      <td>1612575636</td>\n",
       "      <td>77</td>\n",
       "      <td>77.4840</td>\n",
       "      <td>-69.3632</td>\n",
       "      <td>-3.838</td>\n",
       "      <td>3.36</td>\n",
       "    </tr>\n",
       "  </tbody>\n",
       "</table>\n",
       "</div>"
      ],
      "text/plain": [
       "        City  Cloudiness Country        Date  Humidity      Lat      Long  \\\n",
       "0    Laramie          75      US  1612575634        74  41.3114 -105.5911   \n",
       "1    Ushuaia          40      AR  1612575404        76 -54.8000  -68.3000   \n",
       "2      Warri          11      NG  1612575635        87   5.5167    5.7500   \n",
       "3  Hong Kong           0      HK  1612575605        77  22.2855  114.1577   \n",
       "4    Qaanaaq         100      GL  1612575636        77  77.4840  -69.3632   \n",
       "\n",
       "   Max Temp  Wind Speed  \n",
       "0    25.268        6.17  \n",
       "1    46.670       11.83  \n",
       "2    79.754        1.52  \n",
       "3    69.278        2.01  \n",
       "4    -3.838        3.36  "
      ]
     },
     "execution_count": 54,
     "metadata": {},
     "output_type": "execute_result"
    }
   ],
   "source": [
    "# Display data frame head \n",
    "weather_df.head()"
   ]
  },
  {
   "cell_type": "markdown",
   "metadata": {},
   "source": [
    "## Inspect the data and remove the cities where the humidity > 100%.\n",
    "----\n",
    "Skip this step if there are no cities that have humidity > 100%. "
   ]
  },
  {
   "cell_type": "code",
   "execution_count": 9,
   "metadata": {},
   "outputs": [],
   "source": [
    "#  Get the indices of cities that have humidity over 100%.\n",
    "\n",
    "# Make a new DataFrame equal to the city data to drop all humidity outliers by index.\n",
    "# Passing \"inplace=False\" will make a copy of the city_data DataFrame, which we call \"clean_city_data\".\n",
    "\n",
    "# Skipping this step since all are 100 or under"
   ]
  },
  {
   "cell_type": "markdown",
   "metadata": {},
   "source": [
    "## Plotting the Data\n",
    "* Use proper labeling of the plots using plot titles (including date of analysis) and axes labels.\n",
    "* Save the plotted figures as .pngs."
   ]
  },
  {
   "cell_type": "markdown",
   "metadata": {},
   "source": [
    "## Latitude vs. Temperature Plot"
   ]
  },
  {
   "cell_type": "code",
   "execution_count": 10,
   "metadata": {
    "scrolled": true
   },
   "outputs": [
    {
     "data": {
      "image/png": "[encoded data removed]",
      "text/plain": [
       "<Figure size 432x288 with 1 Axes>"
      ]
     },
     "metadata": {
      "needs_background": "light"
     },
     "output_type": "display_data"
    }
   ],
   "source": [
    "plt.scatter(weather_df[\"Lat\"], weather_df[\"Max Temp\"], marker=\"o\", s=10)\n",
    "\n",
    "# Incorporate the other graph properties\n",
    "plt.title(\"City Latitude vs. Max Temperature\")\n",
    "plt.ylabel(\"Max Temperature (F)\")\n",
    "plt.xlabel(\"Latitude\")\n",
    "plt.grid(True)\n",
    "\n",
    "# Save the figure\n",
    "plt.savefig(\"Fig1.png\")\n",
    "\n",
    "# Show plot\n",
    "plt.show()\n",
    "\n",
    "#This code is analyzing the temperature as it relates to latitude. It shows that the temperature\n",
    "# for the negative latitudes in the southern hemisphere are much warmer, as it is summer there,\n",
    "# than in the positive latitudes of the northern hemisphere, where it is winter and cold."
   ]
  },
  {
   "cell_type": "markdown",
   "metadata": {},
   "source": [
    "## Latitude vs. Humidity Plot"
   ]
  },
  {
   "cell_type": "code",
   "execution_count": 11,
   "metadata": {},
   "outputs": [
    {
     "data": {
      "image/png": "[encoded data removed]",
      "text/plain": [
       "<Figure size 432x288 with 1 Axes>"
      ]
     },
     "metadata": {
      "needs_background": "light"
     },
     "output_type": "display_data"
    }
   ],
   "source": [
    "plt.scatter(weather_df[\"Lat\"], weather_df[\"Humidity\"], marker=\"o\", s=10)\n",
    "\n",
    "# Incorporate the other graph properties\n",
    "plt.title(\"City Latitude vs. Humidity\")\n",
    "plt.ylabel(\"Humidity (%)\")\n",
    "plt.xlabel(\"Latitude\")\n",
    "plt.grid(True)\n",
    "\n",
    "# Save the figure\n",
    "plt.savefig(\"Fig2.png\")\n",
    "\n",
    "# Show plot\n",
    "plt.show()\n",
    "\n",
    "# This code is analyzing the humidity as it relates to latitude. It shows that the humidity\n",
    "# appears to be pretty standard across the latitudes, but that it may tend to be more humid\n",
    "# closer to the north and south poles. "
   ]
  },
  {
   "cell_type": "markdown",
   "metadata": {},
   "source": [
    "## Latitude vs. Cloudiness Plot"
   ]
  },
  {
   "cell_type": "code",
   "execution_count": 40,
   "metadata": {},
   "outputs": [
    {
     "data": {
      "image/png": "[encoded data removed]",
      "text/plain": [
       "<Figure size 432x288 with 1 Axes>"
      ]
     },
     "metadata": {
      "needs_background": "light"
     },
     "output_type": "display_data"
    }
   ],
   "source": [
    "plt.scatter(weather_df[\"Lat\"], weather_df[\"Cloudiness\"], marker=\"o\", s=10)\n",
    "\n",
    "# Incorporate the other graph properties\n",
    "plt.title(\"City Latitude vs. Cloudiness\")\n",
    "plt.ylabel(\"Cloudiness (%)\")\n",
    "plt.xlabel(\"Latitude\")\n",
    "plt.grid(True)\n",
    "\n",
    "# Save the figure\n",
    "plt.savefig(\"Fig3.png\")\n",
    "\n",
    "# Show plot\n",
    "plt.show()\n",
    "\n",
    "# This code is analyzing the cloudiness as it relates to latitude. It shows that the cloudiness\n",
    "# appears to be pretty standard across the latitudes, but possibly that the areas around the \n",
    "# equator tend to be 100% or 0% cloudy rather than in the middle."
   ]
  },
  {
   "cell_type": "markdown",
   "metadata": {},
   "source": [
    "## Latitude vs. Wind Speed Plot"
   ]
  },
  {
   "cell_type": "code",
   "execution_count": 41,
   "metadata": {},
   "outputs": [
    {
     "data": {
      "image/png": "[encoded data removed]",
      "text/plain": [
       "<Figure size 432x288 with 1 Axes>"
      ]
     },
     "metadata": {
      "needs_background": "light"
     },
     "output_type": "display_data"
    }
   ],
   "source": [
    "# plt.scatter(weather_df[\"Lat\"], weather_df[\"Wind Speed\"], marker=\"o\", s=10)\n",
    "plt.scatter(lat, windspeed, marker=\"o\", s=10)\n",
    "\n",
    "# Incorporate the other graph properties\n",
    "plt.title(\"City Latitude vs. Wind Speed\")\n",
    "plt.ylabel(\"Wind Speed (mph)\")\n",
    "plt.xlabel(\"Latitude\")\n",
    "plt.grid(True)\n",
    "\n",
    "# Save the figure\n",
    "plt.savefig(\"Fig4.png\")\n",
    "\n",
    "# Show plot\n",
    "plt.show()\n",
    "\n",
    "# This code is analyzing the wind speed as it relates to latitude. It shows a general trend\n",
    "# that wind speed everywhere is generally under 10 mph, except when nearing some of the \n",
    "# more northern latitudes."
   ]
  },
  {
   "cell_type": "markdown",
   "metadata": {},
   "source": [
    "## Linear Regression"
   ]
  },
  {
   "cell_type": "code",
   "execution_count": 42,
   "metadata": {
    "scrolled": true
   },
   "outputs": [
    {
     "data": {
      "text/html": [
       "<div>\n",
       "<style scoped>\n",
       "    .dataframe tbody tr th:only-of-type {\n",
       "        vertical-align: middle;\n",
       "    }\n",
       "\n",
       "    .dataframe tbody tr th {\n",
       "        vertical-align: top;\n",
       "    }\n",
       "\n",
       "    .dataframe thead th {\n",
       "        text-align: right;\n",
       "    }\n",
       "</style>\n",
       "<table border=\"1\" class=\"dataframe\">\n",
       "  <thead>\n",
       "    <tr style=\"text-align: right;\">\n",
       "      <th></th>\n",
       "      <th>City</th>\n",
       "      <th>Cloudiness</th>\n",
       "      <th>Country</th>\n",
       "      <th>Date</th>\n",
       "      <th>Humidity</th>\n",
       "      <th>Lat</th>\n",
       "      <th>Long</th>\n",
       "      <th>Max Temp</th>\n",
       "      <th>Wind Speed</th>\n",
       "    </tr>\n",
       "  </thead>\n",
       "  <tbody>\n",
       "    <tr>\n",
       "      <th>0</th>\n",
       "      <td>Laramie</td>\n",
       "      <td>75</td>\n",
       "      <td>US</td>\n",
       "      <td>1612575634</td>\n",
       "      <td>74</td>\n",
       "      <td>41.3114</td>\n",
       "      <td>-105.5911</td>\n",
       "      <td>25.268</td>\n",
       "      <td>6.17</td>\n",
       "    </tr>\n",
       "    <tr>\n",
       "      <th>1</th>\n",
       "      <td>Ushuaia</td>\n",
       "      <td>40</td>\n",
       "      <td>AR</td>\n",
       "      <td>1612575404</td>\n",
       "      <td>76</td>\n",
       "      <td>-54.8000</td>\n",
       "      <td>-68.3000</td>\n",
       "      <td>46.670</td>\n",
       "      <td>11.83</td>\n",
       "    </tr>\n",
       "    <tr>\n",
       "      <th>2</th>\n",
       "      <td>Warri</td>\n",
       "      <td>11</td>\n",
       "      <td>NG</td>\n",
       "      <td>1612575635</td>\n",
       "      <td>87</td>\n",
       "      <td>5.5167</td>\n",
       "      <td>5.7500</td>\n",
       "      <td>79.754</td>\n",
       "      <td>1.52</td>\n",
       "    </tr>\n",
       "    <tr>\n",
       "      <th>3</th>\n",
       "      <td>Hong Kong</td>\n",
       "      <td>0</td>\n",
       "      <td>HK</td>\n",
       "      <td>1612575605</td>\n",
       "      <td>77</td>\n",
       "      <td>22.2855</td>\n",
       "      <td>114.1577</td>\n",
       "      <td>69.278</td>\n",
       "      <td>2.01</td>\n",
       "    </tr>\n",
       "    <tr>\n",
       "      <th>4</th>\n",
       "      <td>Qaanaaq</td>\n",
       "      <td>100</td>\n",
       "      <td>GL</td>\n",
       "      <td>1612575636</td>\n",
       "      <td>77</td>\n",
       "      <td>77.4840</td>\n",
       "      <td>-69.3632</td>\n",
       "      <td>-3.838</td>\n",
       "      <td>3.36</td>\n",
       "    </tr>\n",
       "  </tbody>\n",
       "</table>\n",
       "</div>"
      ],
      "text/plain": [
       "        City  Cloudiness Country        Date  Humidity      Lat      Long  \\\n",
       "0    Laramie          75      US  1612575634        74  41.3114 -105.5911   \n",
       "1    Ushuaia          40      AR  1612575404        76 -54.8000  -68.3000   \n",
       "2      Warri          11      NG  1612575635        87   5.5167    5.7500   \n",
       "3  Hong Kong           0      HK  1612575605        77  22.2855  114.1577   \n",
       "4    Qaanaaq         100      GL  1612575636        77  77.4840  -69.3632   \n",
       "\n",
       "   Max Temp  Wind Speed  \n",
       "0    25.268        6.17  \n",
       "1    46.670       11.83  \n",
       "2    79.754        1.52  \n",
       "3    69.278        2.01  \n",
       "4    -3.838        3.36  "
      ]
     },
     "execution_count": 42,
     "metadata": {},
     "output_type": "execute_result"
    }
   ],
   "source": [
    "# Display data frame head \n",
    "weather_df.head()"
   ]
  },
  {
   "cell_type": "code",
   "execution_count": 43,
   "metadata": {},
   "outputs": [],
   "source": [
    "northern_df = weather_df.loc[weather_df[\"Lat\"]>0]\n",
    "southern_df = weather_df.loc[weather_df[\"Lat\"]<0]"
   ]
  },
  {
   "cell_type": "markdown",
   "metadata": {},
   "source": [
    "####  Northern Hemisphere - Max Temp vs. Latitude Linear Regression"
   ]
  },
  {
   "cell_type": "code",
   "execution_count": 44,
   "metadata": {},
   "outputs": [
    {
     "data": {
      "image/png": "[encoded data removed]",
      "text/plain": [
       "<Figure size 432x288 with 1 Axes>"
      ]
     },
     "metadata": {
      "needs_background": "light"
     },
     "output_type": "display_data"
    },
    {
     "name": "stdout",
     "output_type": "stream",
     "text": [
      "The r-value is: -0.8717042933255361\n"
     ]
    }
   ],
   "source": [
    "plt.scatter(northern_df[\"Lat\"], northern_df[\"Max Temp\"], marker=\"o\", s=10)\n",
    "\n",
    "# Incorporate the other graph properties\n",
    "plt.title(\"Northern Hemisphere Latitude vs. Max Temperature\")\n",
    "plt.ylabel(\"Max Temperature (F)\")\n",
    "plt.xlabel(\"Latitude\")\n",
    "plt.grid(True)\n",
    "\n",
    "(slope, intercept, rvalue, pvalue, stderr) = linregress(northern_df[\"Lat\"], northern_df[\"Max Temp\"])\n",
    "regress_values = northern_df[\"Lat\"] * slope + intercept\n",
    "line_eq = \"y = \" + str(round(slope,2)) + \"x + \" + str(round(intercept,2))\n",
    "\n",
    "plt.plot(northern_df[\"Lat\"],regress_values,\"r-\")\n",
    "plt.annotate(line_eq,(6,10),fontsize=15,color=\"red\")\n",
    "\n",
    "\n",
    "# Show plot\n",
    "plt.show()\n",
    "\n",
    "print(f\"The r-value is: {rvalue}\")"
   ]
  },
  {
   "cell_type": "markdown",
   "metadata": {},
   "source": [
    "####  Southern Hemisphere - Max Temp vs. Latitude Linear Regression"
   ]
  },
  {
   "cell_type": "code",
   "execution_count": 45,
   "metadata": {},
   "outputs": [
    {
     "data": {
      "image/png": "[encoded data removed]",
      "text/plain": [
       "<Figure size 432x288 with 1 Axes>"
      ]
     },
     "metadata": {
      "needs_background": "light"
     },
     "output_type": "display_data"
    },
    {
     "name": "stdout",
     "output_type": "stream",
     "text": [
      "The r-value is: 0.5672634467096445\n"
     ]
    }
   ],
   "source": [
    "plt.scatter(southern_df[\"Lat\"], southern_df[\"Max Temp\"], marker=\"o\", s=10)\n",
    "\n",
    "# Incorporate the other graph properties\n",
    "plt.title(\"Southern Hemisphere Latitude vs. Max Temperature\")\n",
    "plt.ylabel(\"Max Temperature (F)\")\n",
    "plt.xlabel(\"Latitude\")\n",
    "plt.grid(True)\n",
    "\n",
    "(slope, intercept, rvalue, pvalue, stderr) = linregress(southern_df[\"Lat\"], southern_df[\"Max Temp\"])\n",
    "regress_values = southern_df[\"Lat\"] * slope + intercept\n",
    "line_eq = \"y = \" + str(round(slope,2)) + \"x + \" + str(round(intercept,2))\n",
    "\n",
    "plt.plot(southern_df[\"Lat\"],regress_values,\"r-\")\n",
    "plt.annotate(line_eq,(6,10),fontsize=15,color=\"red\")\n",
    "\n",
    "\n",
    "# Show plot\n",
    "plt.show()\n",
    "\n",
    "print(f\"The r-value is: {rvalue}\")"
   ]
  },
  {
   "cell_type": "markdown",
   "metadata": {},
   "source": [
    "####  Northern Hemisphere - Humidity (%) vs. Latitude Linear Regression"
   ]
  },
  {
   "cell_type": "code",
   "execution_count": 46,
   "metadata": {},
   "outputs": [
    {
     "data": {
      "image/png": "[encoded data removed]",
      "text/plain": [
       "<Figure size 432x288 with 1 Axes>"
      ]
     },
     "metadata": {
      "needs_background": "light"
     },
     "output_type": "display_data"
    },
    {
     "name": "stdout",
     "output_type": "stream",
     "text": [
      "The r-value is: 0.34891823528857563\n"
     ]
    }
   ],
   "source": [
    "plt.scatter(northern_df[\"Lat\"], northern_df[\"Humidity\"], marker=\"o\", s=10)\n",
    "\n",
    "# Incorporate the other graph properties\n",
    "plt.title(\"Northern Hemisphere Latitude vs. Humidity\")\n",
    "plt.ylabel(\"Humidity\")\n",
    "plt.xlabel(\"Latitude\")\n",
    "plt.grid(True)\n",
    "\n",
    "(slope, intercept, rvalue, pvalue, stderr) = linregress(northern_df[\"Lat\"], northern_df[\"Humidity\"])\n",
    "regress_values = northern_df[\"Lat\"] * slope + intercept\n",
    "line_eq = \"y = \" + str(round(slope,2)) + \"x + \" + str(round(intercept,2))\n",
    "\n",
    "plt.plot(northern_df[\"Lat\"],regress_values,\"r-\")\n",
    "plt.annotate(line_eq,(6,10),fontsize=15,color=\"red\")\n",
    "\n",
    "\n",
    "# Show plot\n",
    "plt.show()\n",
    "\n",
    "print(f\"The r-value is: {rvalue}\")"
   ]
  },
  {
   "cell_type": "markdown",
   "metadata": {},
   "source": [
    "####  Southern Hemisphere - Humidity (%) vs. Latitude Linear Regression"
   ]
  },
  {
   "cell_type": "code",
   "execution_count": 47,
   "metadata": {},
   "outputs": [
    {
     "data": {
      "image/png": "[encoded data removed]",
      "text/plain": [
       "<Figure size 432x288 with 1 Axes>"
      ]
     },
     "metadata": {
      "needs_background": "light"
     },
     "output_type": "display_data"
    },
    {
     "name": "stdout",
     "output_type": "stream",
     "text": [
      "The r-value is: 0.20503680172099004\n"
     ]
    }
   ],
   "source": [
    "plt.scatter(southern_df[\"Lat\"], southern_df[\"Humidity\"], marker=\"o\", s=10)\n",
    "\n",
    "# Incorporate the other graph properties\n",
    "plt.title(\"Southern Hemisphere Latitude vs. Humidity\")\n",
    "plt.ylabel(\"Humidity\")\n",
    "plt.xlabel(\"Latitude\")\n",
    "plt.grid(True)\n",
    "\n",
    "(slope, intercept, rvalue, pvalue, stderr) = linregress(southern_df[\"Lat\"], southern_df[\"Humidity\"])\n",
    "regress_values = southern_df[\"Lat\"] * slope + intercept\n",
    "line_eq = \"y = \" + str(round(slope,2)) + \"x + \" + str(round(intercept,2))\n",
    "\n",
    "plt.plot(southern_df[\"Lat\"],regress_values,\"r-\")\n",
    "plt.annotate(line_eq,(6,10),fontsize=15,color=\"red\")\n",
    "\n",
    "\n",
    "# Show plot\n",
    "plt.show()\n",
    "\n",
    "print(f\"The r-value is: {rvalue}\")"
   ]
  },
  {
   "cell_type": "markdown",
   "metadata": {},
   "source": [
    "####  Northern Hemisphere - Cloudiness (%) vs. Latitude Linear Regression"
   ]
  },
  {
   "cell_type": "code",
   "execution_count": 48,
   "metadata": {},
   "outputs": [
    {
     "data": {
      "image/png": "[encoded data removed]",
      "text/plain": [
       "<Figure size 432x288 with 1 Axes>"
      ]
     },
     "metadata": {
      "needs_background": "light"
     },
     "output_type": "display_data"
    },
    {
     "name": "stdout",
     "output_type": "stream",
     "text": [
      "The r-value is: 0.32050664275251717\n"
     ]
    }
   ],
   "source": [
    "plt.scatter(northern_df[\"Lat\"], northern_df[\"Cloudiness\"], marker=\"o\", s=10)\n",
    "\n",
    "# Incorporate the other graph properties\n",
    "plt.title(\"Northern Hemisphere Latitude vs. Cloudiness\")\n",
    "plt.ylabel(\"Cloudiness\")\n",
    "plt.xlabel(\"Latitude\")\n",
    "plt.grid(True)\n",
    "\n",
    "(slope, intercept, rvalue, pvalue, stderr) = linregress(northern_df[\"Lat\"], northern_df[\"Cloudiness\"])\n",
    "regress_values = northern_df[\"Lat\"] * slope + intercept\n",
    "line_eq = \"y = \" + str(round(slope,2)) + \"x + \" + str(round(intercept,2))\n",
    "\n",
    "plt.plot(northern_df[\"Lat\"],regress_values,\"r-\")\n",
    "plt.annotate(line_eq,(6,10),fontsize=15,color=\"red\")\n",
    "\n",
    "\n",
    "# Show plot\n",
    "plt.show()\n",
    "\n",
    "print(f\"The r-value is: {rvalue}\")"
   ]
  },
  {
   "cell_type": "markdown",
   "metadata": {},
   "source": [
    "####  Southern Hemisphere - Cloudiness (%) vs. Latitude Linear Regression"
   ]
  },
  {
   "cell_type": "code",
   "execution_count": 49,
   "metadata": {},
   "outputs": [
    {
     "data": {
      "image/png": "[encoded data removed]",
      "text/plain": [
       "<Figure size 432x288 with 1 Axes>"
      ]
     },
     "metadata": {
      "needs_background": "light"
     },
     "output_type": "display_data"
    },
    {
     "name": "stdout",
     "output_type": "stream",
     "text": [
      "The r-value is: 0.4107797903161088\n"
     ]
    }
   ],
   "source": [
    "plt.scatter(southern_df[\"Lat\"], southern_df[\"Cloudiness\"], marker=\"o\", s=10)\n",
    "\n",
    "# Incorporate the other graph properties\n",
    "plt.title(\"Southern Hemisphere Latitude vs. Cloudiness\")\n",
    "plt.ylabel(\"Cloudiness\")\n",
    "plt.xlabel(\"Latitude\")\n",
    "plt.grid(True)\n",
    "\n",
    "(slope, intercept, rvalue, pvalue, stderr) = linregress(southern_df[\"Lat\"], southern_df[\"Cloudiness\"])\n",
    "regress_values = southern_df[\"Lat\"] * slope + intercept\n",
    "line_eq = \"y = \" + str(round(slope,2)) + \"x + \" + str(round(intercept,2))\n",
    "\n",
    "plt.plot(southern_df[\"Lat\"],regress_values,\"r-\")\n",
    "plt.annotate(line_eq,(6,10),fontsize=15,color=\"red\")\n",
    "\n",
    "\n",
    "# Show plot\n",
    "plt.show()\n",
    "\n",
    "print(f\"The r-value is: {rvalue}\")"
   ]
  },
  {
   "cell_type": "markdown",
   "metadata": {},
   "source": [
    "####  Northern Hemisphere - Wind Speed (mph) vs. Latitude Linear Regression"
   ]
  },
  {
   "cell_type": "code",
   "execution_count": 50,
   "metadata": {},
   "outputs": [
    {
     "data": {
      "image/png": "[encoded data removed]",
      "text/plain": [
       "<Figure size 432x288 with 1 Axes>"
      ]
     },
     "metadata": {
      "needs_background": "light"
     },
     "output_type": "display_data"
    },
    {
     "name": "stdout",
     "output_type": "stream",
     "text": [
      "The r-value is: 0.13183577648596304\n"
     ]
    }
   ],
   "source": [
    "plt.scatter(northern_df[\"Lat\"], northern_df[\"Wind Speed\"], marker=\"o\", s=10)\n",
    "\n",
    "# Incorporate the other graph properties\n",
    "plt.title(\"Northern Hemisphere Latitude vs. Wind Speed\")\n",
    "plt.ylabel(\"Wind Speed\")\n",
    "plt.xlabel(\"Latitude\")\n",
    "plt.grid(True)\n",
    "\n",
    "(slope, intercept, rvalue, pvalue, stderr) = linregress(northern_df[\"Lat\"], northern_df[\"Wind Speed\"])\n",
    "regress_values = northern_df[\"Lat\"] * slope + intercept\n",
    "line_eq = \"y = \" + str(round(slope,2)) + \"x + \" + str(round(intercept,2))\n",
    "\n",
    "plt.plot(northern_df[\"Lat\"],regress_values,\"r-\")\n",
    "plt.annotate(line_eq,(6,10),fontsize=15,color=\"red\")\n",
    "\n",
    "\n",
    "# Show plot\n",
    "plt.show()\n",
    "\n",
    "print(f\"The r-value is: {rvalue}\")"
   ]
  },
  {
   "cell_type": "markdown",
   "metadata": {},
   "source": [
    "####  Southern Hemisphere - Wind Speed (mph) vs. Latitude Linear Regression"
   ]
  },
  {
   "cell_type": "code",
   "execution_count": 51,
   "metadata": {},
   "outputs": [
    {
     "data": {
      "image/png": "[encoded data removed]",
      "text/plain": [
       "<Figure size 432x288 with 1 Axes>"
      ]
     },
     "metadata": {
      "needs_background": "light"
     },
     "output_type": "display_data"
    },
    {
     "name": "stdout",
     "output_type": "stream",
     "text": [
      "The r-value is: -0.2743216959533763\n"
     ]
    }
   ],
   "source": [
    "plt.scatter(southern_df[\"Lat\"], southern_df[\"Wind Speed\"], marker=\"o\", s=10)\n",
    "\n",
    "# Incorporate the other graph properties\n",
    "plt.title(\"Southern Hemisphere Latitude vs. Wind Speed\")\n",
    "plt.ylabel(\"Wind Speed\")\n",
    "plt.xlabel(\"Latitude\")\n",
    "plt.grid(True)\n",
    "\n",
    "(slope, intercept, rvalue, pvalue, stderr) = linregress(southern_df[\"Lat\"], southern_df[\"Wind Speed\"])\n",
    "regress_values = southern_df[\"Lat\"] * slope + intercept\n",
    "line_eq = \"y = \" + str(round(slope,2)) + \"x + \" + str(round(intercept,2))\n",
    "\n",
    "plt.plot(southern_df[\"Lat\"],regress_values,\"r-\")\n",
    "plt.annotate(line_eq,(6,10),fontsize=15,color=\"red\")\n",
    "\n",
    "\n",
    "# Show plot\n",
    "plt.show()\n",
    "\n",
    "print(f\"The r-value is: {rvalue}\")"
   ]
  },
  {
   "cell_type": "code",
   "execution_count": null,
   "metadata": {},
   "outputs": [],
   "source": []
  }
 ],
 "metadata": {
  "anaconda-cloud": {},
  "kernel_info": {
   "name": "python3"
  },
  "kernelspec": {
   "display_name": "Python 3",
   "language": "python",
   "name": "python3"
  },
  "language_info": {
   "codemirror_mode": {
    "name": "ipython",
    "version": 3
   },
   "file_extension": ".py",
   "mimetype": "text/x-python",
   "name": "python",
   "nbconvert_exporter": "python",
   "pygments_lexer": "ipython3",
   "version": "3.8.3"
  },
  "latex_envs": {
   "LaTeX_envs_menu_present": true,
   "autoclose": false,
   "autocomplete": true,
   "bibliofile": "biblio.bib",
   "cite_by": "apalike",
   "current_citInitial": 1,
   "eqLabelWithNumbers": true,
   "eqNumInitial": 1,
   "hotkeys": {
    "equation": "Ctrl-E",
    "itemize": "Ctrl-I"
   },
   "labels_anchors": false,
   "latex_user_defs": false,
   "report_style_numbering": false,
   "user_envs_cfg": false
  },
  "nteract": {
   "version": "0.12.3"
  }
 },
 "nbformat": 4,
 "nbformat_minor": 2
}
